{
  "nbformat": 4,
  "nbformat_minor": 0,
  "metadata": {
    "colab": {
      "provenance": []
    },
    "kernelspec": {
      "name": "python3",
      "display_name": "Python 3"
    },
    "language_info": {
      "name": "python"
    }
  },
  "cells": [
    {
      "cell_type": "markdown",
      "source": [
        "# \\begin{align}\n",
        "    \\color{yellow}{\\textbf{Proyecto Telecom X Latam: Predicción de Cancelación}}\n",
        "\\end{align}"
      ],
      "metadata": {
        "id": "yLTh2u2yDTQQ"
      }
    },
    {
      "cell_type": "markdown",
      "source": [
        "$\\color{yellow}{\\textbf{Sobre el proyecto:}}$"
      ],
      "metadata": {
        "id": "EenB4vAKXE72"
      }
    },
    {
      "cell_type": "markdown",
      "source": [
        "<p>El desafío <strong>Telecom X Latam-parte 2</strong> forma parte de la formación de Data Science del programa ONE, especificamente de la ruta Machine Learning.</p>\n",
        "\n",
        "<p>La empresa Telecom X está enfrentando una alta tasa de cancelaciones y en una primera instancia, como parte del equipo de análisis de datos, se realizó el análisis exploratorio para detectar los factores que están llevando a los usuarios a dejar la empresa.<br>\n",
        "\n",
        "Una vez indentificados patrones o tendencias que llevan a las personas a cancelar los servicios de la empresa, como parte del equipo de Machine Learning, desarrollamos modelos de clasificación:<strong> Árbol de Decisión y Regresión logística</strong>, capaces de prever qué clientes tienen mayor probabilidad de cancelar sus servicios.\n",
        "\n",
        "La empresa quiere anticiparse al problema de la cancelación, y le corresponde al equipo construir un pipeline robusto para esta etapa inicial de modelado.</p>\n",
        "\n"
      ],
      "metadata": {
        "id": "4Ag-qsy8EReb"
      }
    },
    {
      "cell_type": "markdown",
      "source": [
        "$\\color{yellow}{\\textbf{Objetivos del desafío:}}$"
      ],
      "metadata": {
        "id": "U7HKYATGnWtF"
      }
    },
    {
      "cell_type": "markdown",
      "source": [
        "<ul>\n",
        "<li>Preparar los datos para el modelado (tratamiento, codificación, normalización).</li>\n",
        "\n",
        "<li>Realizar análisis de correlación y selección de variables.\n",
        "Entrenar dos o más modelos de clasificación.</li>\n",
        "\n",
        "<li>Evaluar el rendimiento de los modelos con métricas.</li>\n",
        "\n",
        "<li>Interpretar los resultados, incluyendo la importancia de las variables.</li>\n",
        "\n",
        "<li>Crear una conclusión estratégica señalando los principales factores que influyen en la cancelación.</li>\n",
        "</ul>"
      ],
      "metadata": {
        "id": "K_WROYExnWeK"
      }
    },
    {
      "cell_type": "markdown",
      "source": [
        "$\\color{yellow}{\\textbf{Prácticas del desafío:}}$"
      ],
      "metadata": {
        "id": "bBsbfzyioGxQ"
      }
    },
    {
      "cell_type": "markdown",
      "source": [
        "<ul>\n",
        "<li> Preprocesamiento de datos para Machine Learning.</li>\n",
        "<li> Construcción y evaluación de modelos predictivos.</li>\n",
        "<li> Interpretación de resultados y entrega de insights.</li>\n",
        "<li> Comunicación técnica con enfoque estratégico.</li>\n",
        "</u>"
      ],
      "metadata": {
        "id": "ahFUZp78oHOo"
      }
    },
    {
      "cell_type": "markdown",
      "source": [
        "## $\\color{yellow}{\\textbf{Preprocesamiento de los datos:}}$"
      ],
      "metadata": {
        "id": "FqhdMi2UT3-9"
      }
    },
    {
      "cell_type": "code",
      "execution_count": null,
      "metadata": {
        "id": "F0TyIi_eKj3H"
      },
      "outputs": [],
      "source": [
        "#Importamos bibliotecas para manipular y visualizar los datos\n",
        "import pandas as pd\n",
        "import matplotlib.pyplot as plt\n",
        "import seaborn as sns\n",
        "import numpy as np\n"
      ]
    },
    {
      "cell_type": "code",
      "source": [
        "#Lectura del df limpio obtenido en el desafío anterior\n",
        "ruta = '/content/drive/MyDrive/Colab Notebooks/datos_limpios.csv'\n",
        "clientes = pd.read_csv(ruta)"
      ],
      "metadata": {
        "id": "dFZx_X2-K4KF"
      },
      "execution_count": null,
      "outputs": []
    },
    {
      "cell_type": "code",
      "source": [
        "clientes.head()"
      ],
      "metadata": {
        "id": "7pLFf2uRLf_U",
        "collapsed": true
      },
      "execution_count": null,
      "outputs": []
    },
    {
      "cell_type": "code",
      "source": [
        "#Eliminamos las columnas que no tienen relevancia para el modelo\n",
        "clientes.drop(columns=['customerID','Gender','CuentasDiarias'],\n",
        "              inplace=True)"
      ],
      "metadata": {
        "id": "ysUI4J7TOMwp"
      },
      "execution_count": null,
      "outputs": []
    },
    {
      "cell_type": "code",
      "source": [
        "#Eliminamos los valores NaN de la columna ChargesTotal\n",
        "clientes.dropna(inplace=True)\n",
        "clientes.info()"
      ],
      "metadata": {
        "id": "NCVcP8o1VmMT",
        "collapsed": true
      },
      "execution_count": null,
      "outputs": []
    },
    {
      "cell_type": "code",
      "source": [
        "#Identificamos las columnas categóricas\n",
        "columnas_categoricas = clientes.select_dtypes(include='object').columns\n",
        "columnas_categoricas"
      ],
      "metadata": {
        "id": "pDgA8cxOsJ-j"
      },
      "execution_count": null,
      "outputs": []
    },
    {
      "cell_type": "code",
      "source": [
        "#Función para obtener los valores únicos de cada columna categórica\n",
        "def valores_unicos(df):\n",
        "  columnas_categoricas = df.select_dtypes(include='object').columns\n",
        "  for columna in columnas_categoricas:\n",
        "    print(f'{columna}: {df[columna].unique()}')"
      ],
      "metadata": {
        "id": "3Kg0Tkj0sJ5s"
      },
      "execution_count": null,
      "outputs": []
    },
    {
      "cell_type": "code",
      "source": [
        "valores_unicos(clientes)"
      ],
      "metadata": {
        "id": "9tbn6mkrsfZE",
        "collapsed": true
      },
      "execution_count": null,
      "outputs": []
    },
    {
      "cell_type": "code",
      "source": [
        "#Llamamos la función valores_unicos para ver los valores únicos del df clientes\n",
        "clientes[['MultipleLines','InternetService', 'OnlineSecurity', 'OnlineBackup', 'DeviceProtection',\n",
        "       'TechSupport', 'StreamingTV', 'StreamingMovies']] = clientes[['MultipleLines','InternetService', 'OnlineSecurity', 'OnlineBackup', 'DeviceProtection',\n",
        "       'TechSupport', 'StreamingTV', 'StreamingMovies']].replace({'no internet service':'no', 'no phone service':'no'})\n",
        "\n",
        "valores_unicos(clientes)"
      ],
      "metadata": {
        "id": "pHJDPGv1smys",
        "collapsed": true
      },
      "execution_count": null,
      "outputs": []
    },
    {
      "cell_type": "markdown",
      "source": [
        "### $\\color{yellow}{\\textbf{Analizando la relación entre variables categóricas}}$"
      ],
      "metadata": {
        "id": "owCQkpWeVRh2"
      }
    },
    {
      "cell_type": "code",
      "source": [
        "from scipy.stats import chi2_contingency"
      ],
      "metadata": {
        "id": "1IkguvCRhxI4"
      },
      "execution_count": null,
      "outputs": []
    },
    {
      "cell_type": "code",
      "source": [
        "\"\"\"\n",
        "Función que calcula el coeficiente de Cramer\n",
        "Utilizamos el coeficiente corregido de V-Cramer, ya que el no corregido puede\n",
        "introducir sesgos\n",
        "\"\"\"\n",
        "def v_cramer_corregido(col1, col2):\n",
        "  tabla_cont = pd.crosstab(col1, col2)\n",
        "  estadistico_chi2 = chi2_contingency(tabla_cont)[0]\n",
        "  n = tabla_cont.sum().sum()\n",
        "  estadistico_phi2 = estadistico_chi2 / n\n",
        "  renglon, columnas = tabla_cont.shape\n",
        "  phi2corr = max(0, estadistico_phi2 - ((columnas-1)*(renglon-1))/(n-1))\n",
        "  renglon_corr = renglon - ((renglon-1)**2)/(n-1)\n",
        "  columnas_corr = columnas - ((columnas-1)**2)/(n-1)\n",
        "  return np.sqrt(phi2corr / min((columnas_corr-1), (renglon_corr-1)))"
      ],
      "metadata": {
        "id": "7BA30zon1yFE"
      },
      "execution_count": null,
      "outputs": []
    },
    {
      "cell_type": "code",
      "source": [
        "#Creamos una variable con los nombres de las columnas categóricas\n",
        "variables_cat = ['Churn', 'Partner', 'Dependents', 'PhoneService', 'MultipleLines',\n",
        "       'InternetService', 'OnlineSecurity', 'OnlineBackup', 'DeviceProtection',\n",
        "       'TechSupport', 'StreamingTV', 'StreamingMovies', 'Contract',\n",
        "       'PaperlessBilling', 'PaymentMethod']\n",
        "variables_cat"
      ],
      "metadata": {
        "id": "KWiPpqRM5cCx"
      },
      "execution_count": null,
      "outputs": []
    },
    {
      "cell_type": "code",
      "source": [
        "#Creamos la matriz que guardará los coeficientes de V de Cramer\n",
        "v_cramer_matrix = pd.DataFrame(index=variables_cat, columns=variables_cat)\n",
        "v_cramer_matrix"
      ],
      "metadata": {
        "id": "W4_DgctS45IZ"
      },
      "execution_count": null,
      "outputs": []
    },
    {
      "cell_type": "code",
      "source": [
        "#Guardamos en la matriz anterior el coeficiente para cada par de variables categóricas\n",
        "for col1 in variables_cat:\n",
        "    for col2 in variables_cat:\n",
        "      v_cramer_matrix.loc[col1, col2] = v_cramer_corregido(clientes[col1], clientes[col2])\n",
        "v_cramer_matrix"
      ],
      "metadata": {
        "id": "uiDjKfQ745E_"
      },
      "execution_count": null,
      "outputs": []
    },
    {
      "cell_type": "code",
      "source": [
        "#Gráfico de la matriz de Cramer\n",
        "plt.figure(figsize=(12, 10))\n",
        "sns.heatmap(v_cramer_matrix.astype(float), annot=True, cmap='coolwarm', fmt=\".2f\")\n",
        "plt.title(\"Matriz de V de Cramer para Variables Categóricas\")\n",
        "plt.show()"
      ],
      "metadata": {
        "id": "8VZnQAzG44_h",
        "collapsed": true
      },
      "execution_count": null,
      "outputs": []
    },
    {
      "cell_type": "code",
      "source": [
        "#Filtro para elegir las variables categóricas que tienen una relación más fuerte con Churn\n",
        "target_var = 'Churn'\n",
        "v_relevantes = v_cramer_matrix.index[abs(v_cramer_matrix[target_var]) >= 0.20].tolist()\n",
        "v_relevantes"
      ],
      "metadata": {
        "id": "J5Qe1PVVV8Nc"
      },
      "execution_count": null,
      "outputs": []
    },
    {
      "cell_type": "code",
      "source": [
        "\"\"\"\n",
        "Creamos otra matriz con solo los coeficientes de las variables\n",
        "más fuertemente relacionadas con Churn\n",
        "\"\"\"\n",
        "v_filtrada = v_cramer_matrix.loc[v_relevantes, v_relevantes]\n",
        "v_filtrada"
      ],
      "metadata": {
        "id": "XdbFJwiuWX4C"
      },
      "execution_count": null,
      "outputs": []
    },
    {
      "cell_type": "code",
      "source": [
        "\"\"\"\n",
        "Creamos una máscara booleana para ocultar el triángulo superior\n",
        "de la matriz anterior\n",
        "\"\"\"\n",
        "mascara = np.triu(np.ones_like(v_filtrada, dtype=bool))"
      ],
      "metadata": {
        "id": "wPWSjxbHXbfM"
      },
      "execution_count": null,
      "outputs": []
    },
    {
      "cell_type": "code",
      "source": [
        "#Gráfico de la matriz filtrada\n",
        "plt.figure(figsize=(12, 10))\n",
        "sns.heatmap(v_filtrada.astype(float), annot=True, cmap='coolwarm', fmt=\".2f\", mask=mascara)\n",
        "plt.title(\"Matriz de V de Cramer para Variables Categóricas Relevantes\")\n",
        "plt.show()"
      ],
      "metadata": {
        "collapsed": true,
        "id": "btCEJJzTZRHY"
      },
      "execution_count": null,
      "outputs": []
    },
    {
      "cell_type": "markdown",
      "source": [
        "### $\\color{yellow}{\\textbf{Correlación entre variables numéricas y con churn}}$\n"
      ],
      "metadata": {
        "id": "SwSxDlO-VEnR"
      }
    },
    {
      "cell_type": "code",
      "source": [
        "\"\"\"\n",
        "Seleccionamos las variables numéricas y luego calculamos la correlación entre\n",
        "las variables númericas más la variable objetivo churn\n",
        "\"\"\"\n",
        "variables_numericas = clientes.select_dtypes(include=['number'])\n",
        "variables_numericas['Churn'] = clientes['Churn'].replace({'no': 0, 'yes': 1})\n",
        "print('\\t\\tMatriz de Correlación entre variables numéricas independientes y churn\\t\\t')\n",
        "print(variables_numericas.drop(columns='SeniorCitizen', axis=1).corr())"
      ],
      "metadata": {
        "id": "J5fm_SbrLjyL"
      },
      "execution_count": null,
      "outputs": []
    },
    {
      "cell_type": "code",
      "source": [
        "#Distribución de Tenure según si los clientes hiceron o no churn\n",
        "fig, ax = plt.subplots(figsize=(10,6))\n",
        "ax = sns.boxplot(data=variables_numericas, x='Tenure', hue='Churn', palette='PiYG_r')\n",
        "ax.set_title('Distribución de Antiguedad y Cancelación')\n",
        "ax.set_xlabel('Antiguedad')\n",
        "ax.set_xlim(0,80)\n",
        "ax.legend(title=\"Cancelación\",labels=['No', 'Sí'], loc='best',  bbox_to_anchor=(1,0.70,0.15,0.3))\n",
        "\n",
        "plt.show()"
      ],
      "metadata": {
        "id": "I96HX7w2Oh0m"
      },
      "execution_count": null,
      "outputs": []
    },
    {
      "cell_type": "code",
      "source": [
        "fig, ax = plt.subplots(figsize=(10,6))\n",
        "ax = sns.histplot(variables_numericas,x='Tenure', hue='Churn', kde=True, stat='frequency')\n",
        "ax.set_title('Histograma de Antiguedad y Cancelación')\n",
        "ax.set_xlabel('Antiguedad')\n",
        "ax.set_ylabel('Frecuencia')\n",
        "ax.set_xlim(0,70)\n",
        "ax.set_ylim(0,150)\n",
        "ax.legend(title=\"Cancelación\",labels=['Sí', 'No'], loc='upper right', bbox_to_anchor=(1,0.70,0.15,0.3))\n",
        "\n",
        "plt.show()\n"
      ],
      "metadata": {
        "id": "KL5cmAPJ4t2X"
      },
      "execution_count": null,
      "outputs": []
    },
    {
      "cell_type": "code",
      "source": [
        "#Distribución de cargos mensuales según si los clientes hiceron o no churn\n",
        "fig, ax = plt.subplots(figsize=(10,6))\n",
        "ax = sns.boxplot(data=variables_numericas, x='ChargesMonthly', hue='Churn', palette='PiYG_r')\n",
        "ax.set_title('Distribución de Cargos mensuales y Cancelación')\n",
        "ax.set_xlabel('Cargos mensuales')\n",
        "ax.set_xlim(0,120)\n",
        "ax.legend(title=\"Cancelación\",labels=['No', 'Sí'], loc='upper right', bbox_to_anchor=(1,0.70,0.15,0.3))"
      ],
      "metadata": {
        "id": "BwmxFkXf1GcY"
      },
      "execution_count": null,
      "outputs": []
    },
    {
      "cell_type": "code",
      "source": [
        "fig, ax = plt.subplots(figsize=(10,6))\n",
        "sns.histplot(variables_numericas,x='ChargesMonthly', hue='Churn',kde=True, stat='frequency')\n",
        "ax.set_title('Histograma de Cargos mensuales y Cancelación')\n",
        "ax.set_xlabel('Cargos mensuales')\n",
        "ax.set_ylabel('Frecuencia')\n",
        "ax.set_xlim(20,120)\n",
        "ax.set_ylim(0,160)\n",
        "ax.legend(title=\"Cancelación\",labels=['Sí', 'No'], loc='upper right', bbox_to_anchor=(1,0.70,0.15,0.3))\n",
        "\n",
        "plt.show()"
      ],
      "metadata": {
        "id": "C-ox92TC7Xi0"
      },
      "execution_count": null,
      "outputs": []
    },
    {
      "cell_type": "code",
      "source": [
        "fig, ax = plt.subplots(figsize=(10,6))\n",
        "ax = sns.boxplot(data=variables_numericas, x='ChargesTotal', hue='Churn', palette='PiYG_r')\n",
        "ax.set_title('Distribución de Cargos totales y Cancelación')\n",
        "ax.set_xlabel('Cargos totales')\n",
        "ax.set_xlim(0,8500)\n",
        "ax.legend(title=\"Cancelación\",labels=['No', 'Sí'], loc='upper right', bbox_to_anchor=(1,0.70,0.15,0.3))"
      ],
      "metadata": {
        "id": "eYB9i8o71kJh"
      },
      "execution_count": null,
      "outputs": []
    },
    {
      "cell_type": "code",
      "source": [
        "fig, ax = plt.subplots(figsize=(10,6))\n",
        "sns.histplot(variables_numericas,x='ChargesTotal', hue='Churn',kde=True, stat='frequency')\n",
        "ax.set_title('Histograma de Cargos totales y Cancelación')\n",
        "ax.set_xlabel('Cargos totales')\n",
        "ax.set_ylabel('Frecuencia')\n",
        "ax.set_xlim(0,9000)\n",
        "ax.set_ylim(0,2)\n",
        "ax.legend(title=\"Cancelación\",labels=['Sí', 'No'], loc='upper right', bbox_to_anchor=(1,0.70,0.15,0.3))\n",
        "plt.show()"
      ],
      "metadata": {
        "id": "wa3-ZRAY7pPs"
      },
      "execution_count": null,
      "outputs": []
    },
    {
      "cell_type": "markdown",
      "source": [
        "### $\\color{yellow}{\\textbf{Análisis de valores atípícos en Tenure y ChargesTotal}}$"
      ],
      "metadata": {
        "id": "4B-cdRmsDQHk"
      }
    },
    {
      "cell_type": "code",
      "source": [
        "import numpy as np"
      ],
      "metadata": {
        "id": "WDLhhqE7ZHfg"
      },
      "execution_count": null,
      "outputs": []
    },
    {
      "cell_type": "code",
      "source": [
        "#Filtro para separar los clientes que han cancelado\n",
        "churn = variables_numericas['Churn'] == 1\n",
        "#Creamos un dataframe con las variables que presentan datos atípicos\n",
        "df_atipicos = variables_numericas[['Tenure', 'ChargesTotal', 'Churn']]\n",
        "#Acá aplicamos el filtro anterior para quedarnos con los datos de los clientes que han hecho churn\n",
        "df_atipicos = df_atipicos[churn]\n"
      ],
      "metadata": {
        "id": "uII02Hn5a9__"
      },
      "execution_count": null,
      "outputs": []
    },
    {
      "cell_type": "code",
      "source": [
        "variables_numericas['Churn'].value_counts()"
      ],
      "metadata": {
        "id": "RKJeDc56_bgk"
      },
      "execution_count": null,
      "outputs": []
    },
    {
      "cell_type": "code",
      "source": [
        "indices_eliminar = []"
      ],
      "metadata": {
        "id": "Avvq85kD9k-o"
      },
      "execution_count": null,
      "outputs": []
    },
    {
      "cell_type": "code",
      "source": [
        "#Definimos los límites superior e inferior para identificar los valores atípicos en Tenure\n",
        "q1, q3 = np.percentile(df_atipicos['Tenure'], [25,75])\n",
        "ric = q3 - q1\n",
        "ten_inferior = q1 - (1.5 * ric)\n",
        "ten_superior = q3 + (1.5 * ric)\n",
        "#Guaramos los indices de los valores atípicos identificados\n",
        "indice_atipicos_ten = df_atipicos[(df_atipicos['Tenure'] < ten_inferior) | (df_atipicos['Tenure'] > ten_superior)].index\n",
        "indice_atipicos_ten"
      ],
      "metadata": {
        "id": "dvRipL0qMxLI"
      },
      "execution_count": null,
      "outputs": []
    },
    {
      "cell_type": "code",
      "source": [
        "#Los indices los guardAmos en la lista indices_eliminar\n",
        "indices_eliminar.extend(indice_atipicos_ten)"
      ],
      "metadata": {
        "id": "6OXE_3-v-PH3"
      },
      "execution_count": null,
      "outputs": []
    },
    {
      "cell_type": "code",
      "source": [
        "#Contamos la cantidad de datos a eliminar\n",
        "len(indices_eliminar)"
      ],
      "metadata": {
        "id": "2hZytqxm-XVl"
      },
      "execution_count": null,
      "outputs": []
    },
    {
      "cell_type": "code",
      "source": [
        "#Definimos los límites superior e inferior para identificar los valores atípicos en Charges total\n",
        "q1, q3 = np.percentile(df_atipicos['ChargesTotal'], [25,75])\n",
        "ric = q3 - q1\n",
        "charges_inferior = q1 - (1.5 * ric)\n",
        "charges_superior = q3 + (1.5 * ric)\n",
        "#Guaramos los indices de los valores atípicos identificados\n",
        "indice_atipicos_char = df_atipicos[(df_atipicos['ChargesTotal'] < charges_inferior) | (df_atipicos['ChargesTotal'] > charges_superior)].index\n",
        "len(indice_atipicos_char)"
      ],
      "metadata": {
        "id": "3XVcWzAaagtq"
      },
      "execution_count": null,
      "outputs": []
    },
    {
      "cell_type": "code",
      "source": [
        "#Los indices los guardmos en la lista indices_eliminar\n",
        "indices_eliminar.extend(indice_atipicos_char)"
      ],
      "metadata": {
        "id": "bgb6jbEH-e2x"
      },
      "execution_count": null,
      "outputs": []
    },
    {
      "cell_type": "code",
      "source": [
        "#Contamos la cantidad de datos a eliminar\n",
        "len(indices_eliminar)"
      ],
      "metadata": {
        "id": "0zMlwiSb-h1N"
      },
      "execution_count": null,
      "outputs": []
    },
    {
      "cell_type": "code",
      "source": [
        "#Nos aseguramos que los indices no se repitan\n",
        "indices_eliminar = list(set(indices_eliminar))\n",
        "len(indices_eliminar)"
      ],
      "metadata": {
        "id": "HUizFqCh-mmm"
      },
      "execution_count": null,
      "outputs": []
    },
    {
      "cell_type": "code",
      "source": [
        "#Eliminamos los indices de los valores atípicos del df variables_numericas y\n",
        "#guardamos los resultados en otro df llamado df_limpio\n",
        "df_limpio = variables_numericas.drop(indices_eliminar)"
      ],
      "metadata": {
        "id": "eZ3-mxCb-9Rs"
      },
      "execution_count": null,
      "outputs": []
    },
    {
      "cell_type": "code",
      "source": [
        "df_limpio['Churn'].value_counts()"
      ],
      "metadata": {
        "id": "mOWE6GPC_P3t"
      },
      "execution_count": null,
      "outputs": []
    },
    {
      "cell_type": "code",
      "source": [
        "df_limpio.columns"
      ],
      "metadata": {
        "id": "7z2ah-loC3h9"
      },
      "execution_count": null,
      "outputs": []
    },
    {
      "cell_type": "code",
      "source": [
        "from scipy import stats"
      ],
      "metadata": {
        "id": "71TcWhsi4rTj"
      },
      "execution_count": null,
      "outputs": []
    },
    {
      "cell_type": "code",
      "source": [
        "\"\"\"\n",
        "Calculo de coeficiente de correlación biserial entre la variable Churn y las variables numéricas\n",
        "para determinar la correlación entre las variables numéricas  y la variable categórica churn\n",
        "después de la eliminación de los valores atípicos\n",
        "\"\"\"\n",
        "columnas = df_limpio.columns.drop(['SeniorCitizen', 'Churn'])\n",
        "coeficiente_biserial = []\n",
        "for columna in columnas:\n",
        "  coeficiente = stats.pointbiserialr(df_limpio[columna], df_limpio['Churn'])\n",
        "  coeficiente_biserial.append((columna,coeficiente[0]))\n",
        "coeficiente_biserial"
      ],
      "metadata": {
        "id": "M68dQDlGIcRw"
      },
      "execution_count": null,
      "outputs": []
    },
    {
      "cell_type": "code",
      "source": [
        "\"\"\"\n",
        "Verificación de la distribución de Tenure y Churn después de elimnar los\n",
        "valores atípicos\n",
        "\"\"\"\n",
        "sns.boxplot(data=df_limpio, x='Tenure', hue='Churn')"
      ],
      "metadata": {
        "id": "sy-Um2-iDUxS"
      },
      "execution_count": null,
      "outputs": []
    },
    {
      "cell_type": "code",
      "source": [
        "\"\"\"\n",
        "Verificación de la distribución de Tenure y Churn después de elimnar los\n",
        "valores atípicos\n",
        "\"\"\"\n",
        "sns.histplot(df_limpio,x='Tenure', hue='Churn',kde=True, stat='frequency')"
      ],
      "metadata": {
        "id": "3yLuQXtkLHyF"
      },
      "execution_count": null,
      "outputs": []
    },
    {
      "cell_type": "code",
      "source": [
        "\"\"\"\n",
        "Verificación de la distribución de Charges total y Churn después de elimnar los\n",
        "valores atípicos\n",
        "\"\"\"\n",
        "sns.boxplot(data=df_limpio, x='ChargesTotal', hue='Churn')"
      ],
      "metadata": {
        "id": "wEV2gf4MDw8B"
      },
      "execution_count": null,
      "outputs": []
    },
    {
      "cell_type": "code",
      "source": [
        "\"\"\"\n",
        "Verificación de la distribución de Charges total y Churn después de elimnar los\n",
        "valores atípicos\n",
        "\"\"\"\n",
        "sns.histplot(df_limpio,x='ChargesTotal', hue='Churn',kde=True, stat='frequency')"
      ],
      "metadata": {
        "id": "4edVnh18Kyzp"
      },
      "execution_count": null,
      "outputs": []
    },
    {
      "cell_type": "code",
      "source": [
        "\"\"\"\n",
        "Correlación entre las variables numéricas despúes de eliminar\n",
        "los valores atípicos\n",
        "\"\"\"\n",
        "df_limpio[['Tenure', 'ChargesMonthly','ChargesTotal']].corr()"
      ],
      "metadata": {
        "id": "EPsDbuAR2_bu"
      },
      "execution_count": null,
      "outputs": []
    },
    {
      "cell_type": "markdown",
      "source": [
        "### $\\color{yellow}{\\textbf{Dividiendo entre variables explicativas y objetivo}}$"
      ],
      "metadata": {
        "id": "fVWaXlnurf0k"
      }
    },
    {
      "cell_type": "code",
      "source": [
        "X = clientes.drop(['Churn', 'Partner', 'Dependents', 'PhoneService', 'MultipleLines',\n",
        "                   'OnlineSecurity', 'OnlineBackup', 'DeviceProtection','TechSupport',\n",
        "                   'StreamingTV', 'StreamingMovies', 'PaperlessBilling', 'ChargesTotal'], axis=1)\n",
        "y = clientes.Churn"
      ],
      "metadata": {
        "id": "UvuQZtxqNJl9"
      },
      "execution_count": null,
      "outputs": []
    },
    {
      "cell_type": "markdown",
      "source": [
        "### $\\color{yellow}{\\textbf{Codificación de las variables categóricas independientes}}$"
      ],
      "metadata": {
        "id": "ux3QjqGkU2xU"
      }
    },
    {
      "cell_type": "code",
      "source": [
        "from sklearn.preprocessing import OneHotEncoder\n",
        "from sklearn.compose import make_column_transformer"
      ],
      "metadata": {
        "id": "c3E0-Dp-W9_3"
      },
      "execution_count": null,
      "outputs": []
    },
    {
      "cell_type": "code",
      "source": [
        "columnas = X.columns"
      ],
      "metadata": {
        "id": "XOHndh_QaDa3"
      },
      "execution_count": null,
      "outputs": []
    },
    {
      "cell_type": "code",
      "source": [
        "one_hot = make_column_transformer((OneHotEncoder(drop='first'),\n",
        "                                   ['SeniorCitizen', 'InternetService',\n",
        "                                    'Contract', 'PaymentMethod']),\n",
        "                                    remainder='passthrough',\n",
        "                                    sparse_threshold=0,\n",
        "                                    force_int_remainder_cols=False)\n",
        "\n",
        "one_hot"
      ],
      "metadata": {
        "id": "FR9eHYzYWOsY"
      },
      "execution_count": null,
      "outputs": []
    },
    {
      "cell_type": "code",
      "source": [
        "X = one_hot.fit_transform(X)\n",
        "X"
      ],
      "metadata": {
        "id": "y9ZEjydUbtvB"
      },
      "execution_count": null,
      "outputs": []
    },
    {
      "cell_type": "code",
      "source": [
        "one_hot.get_feature_names_out(columnas)"
      ],
      "metadata": {
        "id": "rHlYVZRQcKOY"
      },
      "execution_count": null,
      "outputs": []
    },
    {
      "cell_type": "code",
      "source": [
        "one_hot.get_feature_names_out(columnas)"
      ],
      "metadata": {
        "id": "-7BayIeY3IHf"
      },
      "execution_count": null,
      "outputs": []
    },
    {
      "cell_type": "code",
      "source": [
        "df_codificado = pd.DataFrame(X, columns= one_hot.get_feature_names_out(columnas))"
      ],
      "metadata": {
        "id": "kFp4_f-6c2Sd"
      },
      "execution_count": null,
      "outputs": []
    },
    {
      "cell_type": "code",
      "source": [
        "df_codificado.head()"
      ],
      "metadata": {
        "id": "b44pi08GdOBN",
        "collapsed": true
      },
      "execution_count": null,
      "outputs": []
    },
    {
      "cell_type": "markdown",
      "source": [
        "### $\\color{yellow}{\\textbf{Codificando variable objetivo}}$"
      ],
      "metadata": {
        "id": "6jmkEzySsQpb"
      }
    },
    {
      "cell_type": "code",
      "source": [
        "from sklearn.preprocessing import LabelEncoder\n",
        "\n",
        "label_encoder = LabelEncoder()\n",
        "y = label_encoder.fit_transform(y)\n"
      ],
      "metadata": {
        "id": "q6yd1_49etOl"
      },
      "execution_count": null,
      "outputs": []
    },
    {
      "cell_type": "code",
      "source": [
        "y"
      ],
      "metadata": {
        "id": "MAkw4tins8as"
      },
      "execution_count": null,
      "outputs": []
    },
    {
      "cell_type": "markdown",
      "source": [
        "### $\\color{yellow}{\\textbf{Analizando la proporción de cancelación para encontrar desbalanceo}}$"
      ],
      "metadata": {
        "id": "DEgLbsUls_eO"
      }
    },
    {
      "cell_type": "code",
      "source": [
        "clientes.Churn.value_counts(normalize=True)"
      ],
      "metadata": {
        "id": "jqynaE8HtOfu"
      },
      "execution_count": null,
      "outputs": []
    },
    {
      "cell_type": "code",
      "source": [
        "clientes.info()"
      ],
      "metadata": {
        "id": "OtvRabtqMn8o"
      },
      "execution_count": null,
      "outputs": []
    },
    {
      "cell_type": "markdown",
      "source": [
        "##$\\color{yellow}{\\textbf{Modelado predictivo}}$"
      ],
      "metadata": {
        "id": "L03Obke79bvx"
      }
    },
    {
      "cell_type": "markdown",
      "source": [
        "###$\\color{yellow}{\\textbf{División de los datos en entrenamiento, validación y prueba}}$"
      ],
      "metadata": {
        "id": "SbDnAMDHFEaM"
      }
    },
    {
      "cell_type": "code",
      "source": [
        "#Importamos el módulo para dividir los datos\n",
        "from sklearn.model_selection import train_test_split"
      ],
      "metadata": {
        "id": "U0hTbzxx6bNM"
      },
      "execution_count": null,
      "outputs": []
    },
    {
      "cell_type": "code",
      "source": [
        "# Dividimos los datos en entrenamiento y prueba\n",
        "X, X_test, y, y_test = train_test_split(X,y, test_size=0.30, stratify=y, random_state=42)"
      ],
      "metadata": {
        "id": "clMRvEor6bKO"
      },
      "execution_count": null,
      "outputs": []
    },
    {
      "cell_type": "code",
      "source": [
        "#Dividimos los datos de entrenamiento, uno para el aprendizaje y otro para validar las generalizaciones del modelo\n",
        "X_train, X_val, y_train, y_val = train_test_split(X,y, stratify=y, random_state=42)"
      ],
      "metadata": {
        "id": "see6Rq4q6bG4"
      },
      "execution_count": null,
      "outputs": []
    },
    {
      "cell_type": "markdown",
      "source": [
        "###$\\color{yellow}{\\textbf{Normalización y estandarización  de los datos}}$"
      ],
      "metadata": {
        "id": "sNQ40ME6RDO5"
      }
    },
    {
      "cell_type": "code",
      "source": [
        "#Importamos RobusScaler para el escalamiento de los datos, ya que es robusto a los datoa atípicos\n",
        "# y no tiene el supuesto de que los datos tienen una distribución normal\n",
        "from sklearn.preprocessing import RobustScaler\n",
        "robust_scaler = RobustScaler()\n",
        "\n",
        "X_train = robust_scaler.fit_transform(X_train)\n",
        "X_val = robust_scaler.transform(X_val)\n",
        "X_test = robust_scaler.transform(X_test)"
      ],
      "metadata": {
        "id": "H1pMDc5uRDO7"
      },
      "execution_count": null,
      "outputs": []
    },
    {
      "cell_type": "code",
      "source": [
        "X_train"
      ],
      "metadata": {
        "id": "mWAvtTI7E6Db"
      },
      "execution_count": null,
      "outputs": []
    },
    {
      "cell_type": "code",
      "source": [
        "df_normalizado = pd.DataFrame(X_train,columns= one_hot.get_feature_names_out(columnas))\n",
        "df_normalizado.info()"
      ],
      "metadata": {
        "id": "OmsuafII4kB9"
      },
      "execution_count": null,
      "outputs": []
    },
    {
      "cell_type": "markdown",
      "source": [
        "###$\\color{yellow}{\\textbf{Análisis de multicolinealidad entre las variables del modelo}}$"
      ],
      "metadata": {
        "id": "cx4uthgTuo0o"
      }
    },
    {
      "cell_type": "code",
      "source": [
        "from statsmodels.stats.outliers_influence import variance_inflation_factor\n",
        "#Realizamos el análisis de  multicolinealidad en los datos de entrenamiento ya normalizados\n",
        "df = df_normalizado.copy()\n",
        "vif_data = pd.DataFrame()\n",
        "vif_data['Feature'] = df.columns\n",
        "vif_data['VIF'] = [variance_inflation_factor(df.values, i) for i in range(df.shape[1])]\n",
        "vif_data"
      ],
      "metadata": {
        "id": "qeeh61jw-QJa"
      },
      "execution_count": null,
      "outputs": []
    },
    {
      "cell_type": "code",
      "source": [
        "\"\"\"\n",
        "Descartamos la variable ChargesMonthly ya que tiene un vif >= 5\n",
        "Descartamos la variable Internet Service no ya que se relaciona con internet Service fiber optic\n",
        "Nos quedamos con las variables asociadas con el método de pago ya que el valor de vif es bajo\n",
        "Lo mismo sucede con las variables relacionadas con el tipo de contrato\n",
        "\"\"\"\n",
        "df = df.drop(columns=['onehotencoder__InternetService_no', 'remainder__ChargesMonthly'])\n",
        "vif_data = pd.DataFrame()\n",
        "vif_data['Feature'] = df.columns\n",
        "vif_data['VIF'] = [variance_inflation_factor(df.values, i) for i in range(df.shape[1])]\n",
        "vif_data"
      ],
      "metadata": {
        "id": "1cCEinCaLVJg"
      },
      "execution_count": null,
      "outputs": []
    },
    {
      "cell_type": "code",
      "source": [
        "#Borramos las columnas mencionadas anteriormente\n",
        "_X_train = np.delete(X_train, [2,9], axis=1)\n",
        "_X_val = np.delete(X_val, [2,9], axis=1)\n",
        "_X_test = np.delete(X_test, [2,9], axis=1)"
      ],
      "metadata": {
        "id": "pVFWnlJE4Pl7"
      },
      "execution_count": null,
      "outputs": []
    },
    {
      "cell_type": "markdown",
      "source": [
        "###$\\color{yellow}{\\textbf{Balanceo de los datos}}$"
      ],
      "metadata": {
        "id": "1xiaX6CCjpNV"
      }
    },
    {
      "cell_type": "code",
      "source": [
        "\"\"\"\n",
        "Se balancea los datos de entrenamiento,\n",
        "dado que detectamos un desbalanceo en las clases de churn\n",
        "\"\"\"\n",
        "from imblearn.over_sampling import SMOTE\n",
        "smote = SMOTE(random_state=42)\n",
        "X_train_bal, y_train_bal = smote.fit_resample(_X_train, y_train)"
      ],
      "metadata": {
        "id": "wZ2P8JOwRD_G"
      },
      "execution_count": null,
      "outputs": []
    },
    {
      "cell_type": "markdown",
      "source": [
        "##$\\color{yellow}{\\textbf{Entrenamiento de los modelos}}$"
      ],
      "metadata": {
        "id": "I_aVWTjmFLBz"
      }
    },
    {
      "cell_type": "markdown",
      "source": [
        "###$\\color{yellow}{\\textbf{Modelo dummy}}$"
      ],
      "metadata": {
        "id": "w9TRxHMPOjFR"
      }
    },
    {
      "cell_type": "code",
      "source": [
        "from sklearn.dummy import DummyClassifier"
      ],
      "metadata": {
        "id": "UDlVfeFfFKes"
      },
      "execution_count": null,
      "outputs": []
    },
    {
      "cell_type": "code",
      "source": [
        "modelo_base = DummyClassifier()"
      ],
      "metadata": {
        "id": "hLZOkHD_6bDI"
      },
      "execution_count": null,
      "outputs": []
    },
    {
      "cell_type": "code",
      "source": [
        "#Entrenamiento del modelo base\n",
        "modelo_base.fit(X_train_bal, y_train_bal)"
      ],
      "metadata": {
        "id": "CNwDEkCr6a2P"
      },
      "execution_count": null,
      "outputs": []
    },
    {
      "cell_type": "code",
      "source": [
        "print(f'La exactidud del modelo de entrenamiento es {modelo_base.score(X_train_bal,y_train_bal)}')"
      ],
      "metadata": {
        "id": "bCilb7R4GKvA"
      },
      "execution_count": null,
      "outputs": []
    },
    {
      "cell_type": "markdown",
      "source": [
        "###$\\color{yellow}{\\textbf{Árbol de Decisión}}$"
      ],
      "metadata": {
        "id": "VQBU0iefOsNx"
      }
    },
    {
      "cell_type": "code",
      "source": [
        "from sklearn.tree import DecisionTreeClassifier"
      ],
      "metadata": {
        "id": "eiy2k-E-FoBj"
      },
      "execution_count": null,
      "outputs": []
    },
    {
      "cell_type": "code",
      "source": [
        "modelo_arbol = DecisionTreeClassifier(max_depth=5)\n",
        "#Entrenamiento del modelo árbol\n",
        "modelo_arbol.fit(X_train_bal, y_train_bal)"
      ],
      "metadata": {
        "id": "WVfGqW58Oz17"
      },
      "execution_count": null,
      "outputs": []
    },
    {
      "cell_type": "code",
      "source": [
        "#Métrica del modelo de entrenamiento\n",
        "print(f'La exactidud del modelo de entrenamiento es {modelo_arbol.score(X_train_bal,y_train_bal)}')"
      ],
      "metadata": {
        "id": "_ClWVRtAGRag"
      },
      "execution_count": null,
      "outputs": []
    },
    {
      "cell_type": "code",
      "source": [
        "##Métrica del modelo con los datos de validación\n",
        "print(f'La exactidud del modelo de validación es {modelo_arbol.score(_X_val,y_val)}')"
      ],
      "metadata": {
        "id": "vfhU3QCyGVii"
      },
      "execution_count": null,
      "outputs": []
    },
    {
      "cell_type": "markdown",
      "source": [
        "### **Modelo Regresión Logística**"
      ],
      "metadata": {
        "id": "5Ab1DFJuOhkp"
      }
    },
    {
      "cell_type": "code",
      "source": [
        "from sklearn.linear_model import LogisticRegression"
      ],
      "metadata": {
        "id": "BztdIXLVQI5z"
      },
      "execution_count": null,
      "outputs": []
    },
    {
      "cell_type": "code",
      "source": [
        "modelo_regresion = LogisticRegression(random_state=42)\n",
        "#Entrenamiento del modelo de regresión logística\n",
        "modelo_regresion.fit(X_train_bal, y_train_bal)"
      ],
      "metadata": {
        "id": "45lEN_ghQJmw"
      },
      "execution_count": null,
      "outputs": []
    },
    {
      "cell_type": "code",
      "source": [
        "#Métrica del modelo de entrenamiento\n",
        "print(f'La exactidud del modelo de entrenamiento es {modelo_regresion.score(X_train_bal,y_train_bal)}')"
      ],
      "metadata": {
        "id": "COzukwaLZlXP"
      },
      "execution_count": null,
      "outputs": []
    },
    {
      "cell_type": "markdown",
      "source": [
        "###$\\color{yellow}{\\textbf{Evaluación de los modelos}}$"
      ],
      "metadata": {
        "id": "8l4vq5GaTpSr"
      }
    },
    {
      "cell_type": "code",
      "source": [
        "#Importamos las métricas para evaluar los modelos\n",
        "from sklearn.metrics import confusion_matrix\n",
        "from sklearn.metrics import ConfusionMatrixDisplay\n",
        "from sklearn.metrics import accuracy_score, precision_score, recall_score, f1_score"
      ],
      "metadata": {
        "id": "gqVyi2PWTu1m"
      },
      "execution_count": null,
      "outputs": []
    },
    {
      "cell_type": "markdown",
      "source": [
        "####$\\color{yellow}{\\textbf{Evaluación del modelo Árbol de Decisión}}$"
      ],
      "metadata": {
        "id": "so_VJpQQ0lVx"
      }
    },
    {
      "cell_type": "code",
      "source": [
        "y_predicho = modelo_arbol.predict(_X_val)\n",
        "\n",
        "matriz_confusion = confusion_matrix(y_val, y_predicho)\n",
        "\n",
        "print(matriz_confusion)"
      ],
      "metadata": {
        "id": "n3ezRsaRnejy"
      },
      "execution_count": null,
      "outputs": []
    },
    {
      "cell_type": "code",
      "source": [
        "vis_matriz_confusion = ConfusionMatrixDisplay(matriz_confusion)\n",
        "\n",
        "vis_matriz_confusion.plot();"
      ],
      "metadata": {
        "id": "sXMqPEapny-o"
      },
      "execution_count": null,
      "outputs": []
    },
    {
      "cell_type": "markdown",
      "source": [
        "#####$\\color{yellow}{\\textbf{Informe de métricas}}$"
      ],
      "metadata": {
        "id": "QVboSPLPwKNC"
      }
    },
    {
      "cell_type": "code",
      "source": [
        "from sklearn.metrics import classification_report"
      ],
      "metadata": {
        "id": "o0biLNBxprw6"
      },
      "execution_count": null,
      "outputs": []
    },
    {
      "cell_type": "code",
      "source": [
        "print(classification_report(y_val, y_predicho))"
      ],
      "metadata": {
        "id": "6Zg3Fij9wO6-"
      },
      "execution_count": null,
      "outputs": []
    },
    {
      "cell_type": "markdown",
      "source": [
        "#####$\\color{yellow}{\\textbf{Análisis de curvas ROC y Precision x Recall}}$"
      ],
      "metadata": {
        "id": "piXOFo8v0Bgi"
      }
    },
    {
      "cell_type": "code",
      "source": [
        "from sklearn.metrics import RocCurveDisplay\n",
        "from sklearn.metrics import roc_auc_score"
      ],
      "metadata": {
        "id": "08RUN3Cawgn5"
      },
      "execution_count": null,
      "outputs": []
    },
    {
      "cell_type": "code",
      "source": [
        "RocCurveDisplay.from_predictions(y_val, y_predicho, name='Árbol de Decisión');"
      ],
      "metadata": {
        "id": "NBqvrNqMwvk3"
      },
      "execution_count": null,
      "outputs": []
    },
    {
      "cell_type": "code",
      "source": [
        "print(f'El área debajo de la curva ROC es {roc_auc_score(y_val, y_predicho)}')"
      ],
      "metadata": {
        "id": "N71Zmq80xJGE"
      },
      "execution_count": null,
      "outputs": []
    },
    {
      "cell_type": "code",
      "source": [
        "from sklearn.metrics import PrecisionRecallDisplay, average_precision_score"
      ],
      "metadata": {
        "id": "EwNUUO8IxViD"
      },
      "execution_count": null,
      "outputs": []
    },
    {
      "cell_type": "code",
      "source": [
        "PrecisionRecallDisplay.from_predictions(y_val, y_predicho);"
      ],
      "metadata": {
        "id": "HA7I18KjzV61"
      },
      "execution_count": null,
      "outputs": []
    },
    {
      "cell_type": "code",
      "source": [
        "print(f'El área debajo de la curva Precision vs Recall es {average_precision_score(y_val, y_predicho)}')"
      ],
      "metadata": {
        "id": "2HwA9k3LztMs"
      },
      "execution_count": null,
      "outputs": []
    },
    {
      "cell_type": "markdown",
      "source": [
        "####$\\color{yellow}{\\textbf{Evaluación del modelo Regresión logística}}$"
      ],
      "metadata": {
        "id": "VGKAT3UnG-8a"
      }
    },
    {
      "cell_type": "code",
      "source": [
        "y_regresion_predicho = modelo_regresion.predict(_X_val)"
      ],
      "metadata": {
        "id": "SpvdfIezHJto"
      },
      "execution_count": null,
      "outputs": []
    },
    {
      "cell_type": "markdown",
      "source": [
        "####$\\color{yellow}{\\textbf{Reporte de métricas}}$"
      ],
      "metadata": {
        "id": "ryHbV35yWDhT"
      }
    },
    {
      "cell_type": "code",
      "source": [
        "print(classification_report(y_val, y_regresion_predicho))"
      ],
      "metadata": {
        "id": "xPQUKdpwHKPu"
      },
      "execution_count": null,
      "outputs": []
    },
    {
      "cell_type": "code",
      "source": [
        "matriz_confusion_regresion = confusion_matrix(y_val, y_regresion_predicho)"
      ],
      "metadata": {
        "id": "bzBXOLPZHKFa"
      },
      "execution_count": null,
      "outputs": []
    },
    {
      "cell_type": "code",
      "source": [
        "vis_matriz_confusion_regresion = ConfusionMatrixDisplay(matriz_confusion_regresion)\n",
        "\n",
        "vis_matriz_confusion_regresion.plot();\n"
      ],
      "metadata": {
        "id": "0NaLo4ASKH3h"
      },
      "execution_count": null,
      "outputs": []
    },
    {
      "cell_type": "markdown",
      "source": [
        "#####$\\color{yellow}{\\textbf{Análisis de curvas ROC y Precision x Recall}}$"
      ],
      "metadata": {
        "id": "guQ0VrtNWPKE"
      }
    },
    {
      "cell_type": "code",
      "source": [
        "RocCurveDisplay.from_predictions(y_val, y_regresion_predicho, name='Regresión Logistica');"
      ],
      "metadata": {
        "id": "BT6eLs7hKhWG"
      },
      "execution_count": null,
      "outputs": []
    },
    {
      "cell_type": "code",
      "source": [
        "print(f'El área debajo de la curva ROC es {roc_auc_score(y_val, y_regresion_predicho)}')"
      ],
      "metadata": {
        "id": "5LOlw7bGK7zX"
      },
      "execution_count": null,
      "outputs": []
    },
    {
      "cell_type": "code",
      "source": [
        "PrecisionRecallDisplay.from_predictions(y_val, y_regresion_predicho);"
      ],
      "metadata": {
        "id": "vm8tWnJXK8kZ"
      },
      "execution_count": null,
      "outputs": []
    },
    {
      "cell_type": "code",
      "source": [
        "print(f'El área debajo de la curva Precision vs Recall es {average_precision_score(y_val, y_regresion_predicho)}')"
      ],
      "metadata": {
        "id": "Oy1MnwDPLH1g"
      },
      "execution_count": null,
      "outputs": []
    },
    {
      "cell_type": "markdown",
      "source": [
        "#####$\\color{yellow}{\\textbf{Evaluación de los modelos con validación cruzada a través de un pipeline}}$"
      ],
      "metadata": {
        "id": "0EDV6_uPEml_"
      }
    },
    {
      "cell_type": "code",
      "source": [
        "from imblearn.pipeline import Pipeline as imbpipeline\n",
        "from sklearn.model_selection import StratifiedKFold\n",
        "from sklearn.compose import ColumnTransformer\n",
        "from sklearn.model_selection import cross_val_score, cross_validate"
      ],
      "metadata": {
        "id": "RX_l2cSnVMSb"
      },
      "execution_count": null,
      "outputs": []
    },
    {
      "cell_type": "code",
      "source": [
        "clientes.columns"
      ],
      "metadata": {
        "id": "5vvgGUWIYRDv"
      },
      "execution_count": null,
      "outputs": []
    },
    {
      "cell_type": "code",
      "source": [
        "_X = clientes.drop(columns=['Churn','Partner', 'Dependents',\n",
        "                            'PhoneService', 'MultipleLines', 'OnlineSecurity',\n",
        "                            'OnlineBackup', 'DeviceProtection',\n",
        "                            'TechSupport', 'StreamingTV',\n",
        "                            'StreamingMovies', 'PaperlessBilling',\n",
        "                            'ChargesMonthly', 'ChargesTotal'], axis=1)\n",
        "_y = clientes.Churn"
      ],
      "metadata": {
        "id": "jn_i00vGYVuS"
      },
      "execution_count": null,
      "outputs": []
    },
    {
      "cell_type": "code",
      "source": [
        "Y = label_encoder.fit_transform(_y)\n"
      ],
      "metadata": {
        "id": "Ey-4M324lV2x"
      },
      "execution_count": null,
      "outputs": []
    },
    {
      "cell_type": "code",
      "source": [
        "_X.columns"
      ],
      "metadata": {
        "id": "sqn2VewcnT5i"
      },
      "execution_count": null,
      "outputs": []
    },
    {
      "cell_type": "code",
      "source": [
        "var_categoricas = ['SeniorCitizen', 'InternetService', 'Contract', 'PaymentMethod']\n",
        "var_numericas = ['Tenure']"
      ],
      "metadata": {
        "id": "0I5mqNrQXgOH"
      },
      "execution_count": null,
      "outputs": []
    },
    {
      "cell_type": "code",
      "source": [
        "#Instanciamos los modelos\n",
        "arbol = DecisionTreeClassifier(max_depth=5, random_state=42, class_weight='balanced')\n",
        "\n",
        "regresion = LogisticRegression(random_state=42, class_weight='balanced')"
      ],
      "metadata": {
        "id": "HDW9B6V3EmRH"
      },
      "execution_count": null,
      "outputs": []
    },
    {
      "cell_type": "code",
      "source": [
        "#Preprocesador es la variable que contiene los pasos de preprocesamiento a seguir\n",
        "preprocesador = ColumnTransformer(\n",
        "                    transformers=[\n",
        "                        ('num', RobustScaler(), var_numericas),\n",
        "                        ('cat', OneHotEncoder(drop='first'), var_categoricas)],\n",
        "                    remainder='passthrough'\n",
        "                    )"
      ],
      "metadata": {
        "id": "JgtTY7M9EmOK"
      },
      "execution_count": null,
      "outputs": []
    },
    {
      "cell_type": "code",
      "source": [
        "#Creamos el pipeline para el árbol de decisión\n",
        "pipeline = imbpipeline(steps=[('preprocesador', preprocesador),\n",
        "                                ('muestreo',SMOTE(random_state=42)),\n",
        "                                ('árbol', arbol)])\n"
      ],
      "metadata": {
        "id": "6FbQu1hTEmIS"
      },
      "execution_count": null,
      "outputs": []
    },
    {
      "cell_type": "code",
      "source": [
        "#Creamos el pipeline para la regresión logística\n",
        "pipeline_regresion = imbpipeline(steps=[('preprocesador', preprocesador),\n",
        "                                ('muestreo',SMOTE(random_state=42)),\n",
        "                                ('regresión logistica', regresion)])"
      ],
      "metadata": {
        "id": "rTws36iV2ta2"
      },
      "execution_count": null,
      "outputs": []
    },
    {
      "cell_type": "code",
      "source": [
        "#Creamos el objeto que se encarga de la validación cruzada\n",
        "skfold = StratifiedKFold(n_splits=5, shuffle=True, random_state=42)"
      ],
      "metadata": {
        "id": "8dchXgy4EmDe"
      },
      "execution_count": null,
      "outputs": []
    },
    {
      "cell_type": "code",
      "source": [
        "#Aplicamos la validación cruzada para el modelo árbol\n",
        "cross_validation_arbol = cross_val_score(pipeline, _X, Y, cv=skfold, scoring='recall')"
      ],
      "metadata": {
        "id": "mf7DTd-zEmAx"
      },
      "execution_count": null,
      "outputs": []
    },
    {
      "cell_type": "code",
      "source": [
        "cross_val_arbol = cross_validate(pipeline, _X, Y, cv=skfold, scoring=['precision','recall'])"
      ],
      "metadata": {
        "id": "NsrYFKFBMv-6"
      },
      "execution_count": null,
      "outputs": []
    },
    {
      "cell_type": "code",
      "source": [
        "print(f'{cross_val_arbol[\"test_precision\"].mean()} ± {cross_val_arbol[\"test_precision\"].std()}')"
      ],
      "metadata": {
        "id": "A_vhlmpzNoTg"
      },
      "execution_count": null,
      "outputs": []
    },
    {
      "cell_type": "code",
      "source": [
        "print(f'{cross_val_arbol[\"test_recall\"].mean()} ± {cross_val_arbol[\"test_recall\"].std()}')"
      ],
      "metadata": {
        "id": "klcHUuOqPVp9"
      },
      "execution_count": null,
      "outputs": []
    },
    {
      "cell_type": "code",
      "source": [
        "#Obtenemos el promedio de la métrica precisión de las 5 iteraciones\n",
        "print(f'{cross_validation_arbol.mean()} +- {cross_validation_arbol.std()}')"
      ],
      "metadata": {
        "id": "M-XotbH7Elwe"
      },
      "execution_count": null,
      "outputs": []
    },
    {
      "cell_type": "code",
      "source": [
        "#Aplicamos la validación cruzada para el regresión logística\n",
        "cross_validation_regresion = cross_val_score(pipeline_regresion, _X, Y, cv=skfold, scoring='precision')"
      ],
      "metadata": {
        "id": "vZ1gm8pz2mnk"
      },
      "execution_count": null,
      "outputs": []
    },
    {
      "cell_type": "code",
      "source": [
        "#Obtenemos el promedio de la métrica precisión de las 5 iteraciones\n",
        "print(f'{cross_validation_regresion.mean()} +- {cross_validation_regresion.std()}')"
      ],
      "metadata": {
        "id": "AYVqCPyt25gq"
      },
      "execution_count": null,
      "outputs": []
    },
    {
      "cell_type": "code",
      "source": [
        "cross_val_regresion = cross_validate(pipeline_regresion, _X, Y, cv=skfold, scoring=['precision','recall'])"
      ],
      "metadata": {
        "id": "O0N4bBtTPyfy"
      },
      "execution_count": null,
      "outputs": []
    },
    {
      "cell_type": "code",
      "source": [
        "print(f'{cross_val_regresion[\"test_precision\"].mean()} ± {cross_val_regresion[\"test_precision\"].std()}')"
      ],
      "metadata": {
        "id": "p2v3HU_ePzVE"
      },
      "execution_count": null,
      "outputs": []
    },
    {
      "cell_type": "code",
      "source": [
        "print(f'{cross_val_regresion[\"test_recall\"].mean()} ± {cross_val_regresion[\"test_recall\"].std()}')"
      ],
      "metadata": {
        "id": "5ZSE4ba_P7ai"
      },
      "execution_count": null,
      "outputs": []
    },
    {
      "cell_type": "markdown",
      "source": [
        "#####$\\color{yellow}{\\textbf{Prueba del modelo Árbol de Decisión con datos de prueba}}$"
      ],
      "metadata": {
        "id": "fJjH6uBxSgwC"
      }
    },
    {
      "cell_type": "code",
      "source": [
        "y_prueba_predicho = modelo_arbol.predict(_X_test)"
      ],
      "metadata": {
        "id": "xzYmc02QLJ9Y"
      },
      "execution_count": null,
      "outputs": []
    },
    {
      "cell_type": "code",
      "source": [
        "print(classification_report(y_test, y_prueba_predicho))"
      ],
      "metadata": {
        "id": "DiiQ7_sZSENW"
      },
      "execution_count": null,
      "outputs": []
    },
    {
      "cell_type": "code",
      "source": [
        "ConfusionMatrixDisplay.from_predictions(y_test, y_prueba_predicho);"
      ],
      "metadata": {
        "id": "Y7BJNiQRSaad"
      },
      "execution_count": null,
      "outputs": []
    },
    {
      "cell_type": "markdown",
      "source": [
        "#####$\\color{yellow}{\\textbf{Prueba del modelo Regresión Logística con datos de prueba}}$"
      ],
      "metadata": {
        "id": "Als4mJ-MTQhi"
      }
    },
    {
      "cell_type": "code",
      "source": [
        "y_prueba_predicho = modelo_regresion.predict(_X_test)"
      ],
      "metadata": {
        "id": "D4GkbHvvTWtS"
      },
      "execution_count": null,
      "outputs": []
    },
    {
      "cell_type": "code",
      "source": [
        "print(classification_report(y_test, y_prueba_predicho))"
      ],
      "metadata": {
        "id": "d2TI9BzqTdnQ"
      },
      "execution_count": null,
      "outputs": []
    },
    {
      "cell_type": "code",
      "source": [
        "ConfusionMatrixDisplay.from_predictions(y_test, y_prueba_predicho);"
      ],
      "metadata": {
        "id": "o5Y5PCA_Tnh-"
      },
      "execution_count": null,
      "outputs": []
    },
    {
      "cell_type": "markdown",
      "source": [
        "#####$\\color{yellow}{\\textbf{Análisis de importancia de las variables de la regresión}}$"
      ],
      "metadata": {
        "id": "Oa5EPZBn3CJg"
      }
    },
    {
      "cell_type": "code",
      "source": [
        "#Coeficientes del modelo de regresión logistica\n",
        "modelo_regresion.coef_"
      ],
      "metadata": {
        "id": "CJau3fj63BIF"
      },
      "execution_count": null,
      "outputs": []
    },
    {
      "cell_type": "code",
      "source": [
        "df.columns"
      ],
      "metadata": {
        "id": "aC--7zvc7zau"
      },
      "execution_count": null,
      "outputs": []
    },
    {
      "cell_type": "code",
      "source": [
        "#Intercepto del modelo de regresión logistica\n",
        "modelo_regresion.intercept_"
      ],
      "metadata": {
        "id": "sC9y5dH78pvr"
      },
      "execution_count": null,
      "outputs": []
    },
    {
      "cell_type": "code",
      "source": [
        "from sklearn.inspection import permutation_importance\n",
        "results = permutation_importance(modelo_regresion, _X_test, y_test, scoring='recall')\n",
        "for i, v in enumerate(results.importances_mean):\n",
        "    print(f'Feature: {i}, Score: {v *100:.5f}')"
      ],
      "metadata": {
        "id": "qSXrQ3_Q-_07"
      },
      "execution_count": null,
      "outputs": []
    },
    {
      "cell_type": "markdown",
      "source": [
        "#####$\\color{yellow}{\\textbf{Análisis de importancia de las variables del Árbol de Decisión}}$"
      ],
      "metadata": {
        "id": "BRD4FoEl3M9M"
      }
    },
    {
      "cell_type": "code",
      "source": [
        "importances = modelo_arbol.feature_importances_ * 100\n",
        "features = ['SeniorCitizen', 'Fiber optic', 'Contract_one-year','Contract_two-year',\n",
        "            'PM credit card','PMelectronic check','PM mailed check','Tenure']\n",
        "\n",
        "for i in range(len(importances)):\n",
        "  print(f'Feature: {i}, Score: {importances[i]}')\n"
      ],
      "metadata": {
        "id": "7Ro5G0ft-tbU"
      },
      "execution_count": null,
      "outputs": []
    },
    {
      "cell_type": "code",
      "source": [
        "importances = np.sort(importances)[::-1]\n",
        "importances"
      ],
      "metadata": {
        "id": "2aDl5SPLu_cL"
      },
      "execution_count": null,
      "outputs": []
    },
    {
      "cell_type": "code",
      "source": [
        "dic_importances = {\n",
        "                    'feature': ['Contract_two-year','Contract_one-year',\n",
        "                                'Fiber optic','Tenure', 'PMelectronic check',\n",
        "                                'SeniorCitizen', 'PM credit card','PM mailed check'],\n",
        "                    'importance': importances\n",
        "                  }"
      ],
      "metadata": {
        "id": "tf9Qj39mvWKn"
      },
      "execution_count": null,
      "outputs": []
    },
    {
      "cell_type": "code",
      "source": [
        "df_importances = pd.DataFrame(dic_importances)\n",
        "df_importances"
      ],
      "metadata": {
        "id": "fMz4mnylvNw5"
      },
      "execution_count": null,
      "outputs": []
    },
    {
      "cell_type": "code",
      "source": [
        "df_importances.info()"
      ],
      "metadata": {
        "id": "yclVgNV7wtKZ"
      },
      "execution_count": null,
      "outputs": []
    },
    {
      "cell_type": "code",
      "source": [
        "fig, ax = plt.subplots()\n",
        "ax = sns.barplot(data=df_importances, x='importance', y = 'feature', orient='h')\n",
        "ax.set_title('Árbol de Decisión: Importancia de las variables')\n",
        "ax.set_xlabel('Importancia(%)')\n",
        "ax.set_ylabel('Característica')\n"
      ],
      "metadata": {
        "id": "v5hUrwdqiqTF"
      },
      "execution_count": null,
      "outputs": []
    },
    {
      "cell_type": "markdown",
      "source": [
        "## \\begin{align}\n",
        "    \\color{yellow}{\\textbf{📄Informe de predicción de cancelación}}\n",
        "    \\end{align}"
      ],
      "metadata": {
        "id": "oaNdHGWXnvJ9"
      }
    },
    {
      "cell_type": "markdown",
      "source": [
        "### \\begin{align}\n",
        "    \\color{yellow}{\\textbf{Introducción}}\n",
        "    \\end{align}"
      ],
      "metadata": {
        "id": "EKQBUAD9nvAG"
      }
    },
    {
      "cell_type": "markdown",
      "source": [
        "La empresa <strong>Telecom X Latinoamérica</strong> está presentando una alta tasa de cancelación, es por eso que ha encargado a su equipo de análisis de datos y de Machine Learning dos tareas distintas pero complementarias: a partir del análisis exploratorio de los datos de los clientes identificar los factores que están influyendo en la baja de los servicios y la contrucción de modelos de clasificación que sean capaces de predecir la probabilidad de que un cliente renuncie.\n",
        "\n",
        "En el reporte exploratorio de los datos, <a href=\"https://github.com/JGarcia575/challenge_telecomX.git\" >ver informe</a>, se destacan:\n",
        "<ul>\n",
        "  <li>Edad.</li>\n",
        "  <li>Tipo de contrato.</li>\n",
        "  <li>Antiguedad.</li>\n",
        "  <li>El servicio de internet.</li>\n",
        "  <li>El cargo mensual.</li>\n",
        "  <li>El cargo total.</li>\n",
        "</ul>\n",
        "\n",
        "entre los clientes que han disertado.\n",
        "\n",
        "A partir de los datos ya tratados por el equipo de análisis de datos y apoyándonos en los hallazgos encontrados en el informe anterior, se construiran modelos predictivos de clasificación que tengan la capacidad de predecir si un cliente abandonará los servicios de la empresa. El rendimiento de los modelos serán evaluados y se eligirá el que tiene mejor rendimiento a partir de los resultados de las métricas. Por último, se proponen estrategias de retención basadas en los resultados obtenidos.\n",
        "\n"
      ],
      "metadata": {
        "id": "oyByUCgPA9gi"
      }
    },
    {
      "cell_type": "markdown",
      "source": [
        "### \\begin{align}\n",
        "    \\color{yellow}{\\textbf{Métodología}}\n",
        "    \\end{align}"
      ],
      "metadata": {
        "id": "umD6RbF8CF1f"
      }
    },
    {
      "cell_type": "markdown",
      "source": [
        "Los datos fueron preprocesados para que los algoritmos de clasificación de Machine Learning fueran capaces de interpretarlos correctamente.\n",
        "El preprocesamiento incluyó:\n",
        "<ul>\n",
        "  <li>Eliminación de valores nulos.</li>\n",
        "  <li>Codificación de las variables categóricas.</li>\n",
        "  <li>Normalización de las variables numéricas.</li>\n",
        "  <li>Análisis de correlación de las variables.</li>\n",
        "  <li>Balanceo de datos.</li>\n",
        "</ul>\n",
        "\n",
        "Luego del procesamiento, se entrenaron dos tipos de modelos: Árbol de Decisión y Regresión Logística. Para evaluar que tan bien generalizó el modelo y para ajustar los hiperparámetros se realizó la validación del modelo utilizando una parte de los datos y, también, a través de la validación cruzada.\n",
        "\n",
        "Por último, se realizó la evaluación final de los modelos utilizando los datos de prueba y se analizó la importancia de las variables para cada modelo.\n"
      ],
      "metadata": {
        "id": "-uZYqjWCTvw3"
      }
    },
    {
      "cell_type": "markdown",
      "source": [
        "### \\begin{align}\n",
        "    \\color{yellow}{\\textbf{Resultados}}\n",
        "    \\end{align}"
      ],
      "metadata": {
        "id": "e3GdY9ltSJ-l"
      }
    },
    {
      "cell_type": "markdown",
      "source": [
        "### _<strong>Evaluación con datos de entrenamiento</strong>_\n",
        "En el entrenamiento los modelos obtuvieron los siguientos puntajes de exactitud(accuracy): 0.75 para el árbol de decisión y 0.77 para el modelo de regresión, lo cual nos indica que ambos no están sobreajustando los datos.\n",
        "### _<strong>Evaluación con datos de validación</strong>_\n",
        "En la tabla 1, se muestra los resultados de la validación para las métricas precision, recall y f1 para el árbol de decisión.\n"
      ],
      "metadata": {
        "id": "5vHYiprwSPru"
      }
    },
    {
      "cell_type": "markdown",
      "source": [
        "<table>\n",
        "    <thead>\n",
        "        <tr>\n",
        "            <th align='center'>Modelo: Árbol</th>\n",
        "            <th colspan=4 align='center'>Métricas</tr>            \n",
        "        </tr>\n",
        "    </thead>\n",
        "    <thead>\n",
        "        <tr>\n",
        "            <th>Clase</th>\n",
        "            <th>Precision</th>\n",
        "            <th>Recall</th>\n",
        "            <th>F1</th>\n",
        "        </tr>\n",
        "    </thead>\n",
        "    <tbody>\n",
        "        <tr>\n",
        "            <td align=\"center\">No</td>\n",
        "            <td  align=\"center\">0.90</td>\n",
        "            <td  align=\"center\">0.73</td>\n",
        "            <td  align=\"center\">0.81</td>                        \n",
        "        </tr>\n",
        "        <tr>\n",
        "            <td align=\"center\">Si</td>\n",
        "            <td  align=\"center\">0.51</td>\n",
        "            <td  align=\"center\">0.71</td>\n",
        "            <td  align=\"center\"> 0.62 </td>            \n",
        "        </tr>        \n",
        "    </tbody>\n",
        "</table>"
      ],
      "metadata": {
        "id": "9XUc-c-1vpy-"
      }
    },
    {
      "cell_type": "markdown",
      "source": [
        "La métricas muestran que el árbol de decisión puede identificar correctamente los que hicieron churn(70% de sensibilidad). Sin embargo, solo el 51% de las predicciones de churn hechas por el modelo fueron correctas, lo que se refleja en la métrica de precisión.\n",
        "\n",
        "La matriz de confusión ayuda a avisualizar lo que las métricas están indicando:\n",
        "\n",
        "<img src='https://raw.githubusercontent.com/JGarcia575/challenge_telecomX_parte_2/refs/heads/main/img/matriz_confusion_arbol.png'>"
      ],
      "metadata": {
        "id": "G8hRMnNH1HUp"
      }
    },
    {
      "cell_type": "markdown",
      "source": [
        "En la matriz se observa bien que tiene una alta tasa de verdaderos positivos(255) y una baja tasa de falsos negativos(72), lo que se refleja en la métrica sesibilidad( o recall). Sin embargo, tiene una alta tasa de falsos positivos(243), similar a la tasa de verdederos positivos(255), lo cual hace que la precisión sea de aproximadamente 50%.\n",
        "\n",
        "La curva ROC indaga sobre la capacidad del modelo para distinguir las clases, mostrando el balance entre la tasa de verdaderos positivos y la tasa falsos positivos. El modelo tiene un de área debajo de la curva del 0.76,puntuación AUC,esto significa que el árbol de decisión es capaz de distinguir entre ambas clases de clientes. No obstante, en el gráfico se observa que a medida que aumenta los verdaderos positivos, también aumenta los falsos positivos y esto implica que el modelo predice más clientes que cancelaron a costa de identificar erróneamente usuarios que no se fueron.\n",
        "\n",
        "<img src='https://raw.githubusercontent.com/JGarcia575/challenge_telecomX_parte_2/refs/heads/main/img/auc_arbol.png' >\n",
        "\n",
        "El árbol tiene una limitación y esta se observa en el gráfico de precisión vs sensibilidad. Si observamos este gráfico vemos que el mejor recall que podemos obtener es de aproximadamente 0.78 y la mejor precisión es del 0.52. Si quisieramos aumentar la métrica a 1, la precisión baja drásticamente, y si quisieramos aumentar la precisión, la sensibilidad disminuye también drásticamente. El mejor equibibrio entre sensibilidad y precisión es la combinación que se mencionó anteriormente. Por lo tanto, esto refleja una limitación del modelo.\n",
        "\n",
        "<img src='https://raw.githubusercontent.com/JGarcia575/challenge_telecomX_parte_2/refs/heads/main/img/pr_arbol.png'>"
      ],
      "metadata": {
        "id": "fGCOEtrcDbxK"
      }
    },
    {
      "cell_type": "markdown",
      "source": [
        "La tabla 2 muestra las métricas obtenidas para el modelo de regresión con los datos de validación.\n",
        "\n",
        "<table>\n",
        "    <thead>\n",
        "        <tr>\n",
        "            <th align='center'>Modelo: Regresión logística</th>\n",
        "            <th colspan=4 align='center'>Métricas</tr>            \n",
        "        </tr>\n",
        "    </thead>\n",
        "    <thead>\n",
        "        <tr>\n",
        "            <th>Clase</th>\n",
        "            <th>Precision</th>\n",
        "            <th>Recall</th>\n",
        "            <th>F1</th>\n",
        "        </tr>\n",
        "    </thead>\n",
        "    <tbody>\n",
        "        <tr>\n",
        "            <td align=\"center\">No</td>\n",
        "            <td  align=\"center\">0.90</td>\n",
        "            <td  align=\"center\">0.75</td>\n",
        "            <td  align=\"center\">0.82</td>                        \n",
        "        </tr>\n",
        "        <tr>\n",
        "            <td align=\"center\">Si</td>\n",
        "            <td  align=\"center\">0.52</td>\n",
        "            <td  align=\"center\">0.77</td>\n",
        "            <td  align=\"center\">0.62</td>            \n",
        "        </tr>        \n",
        "    </tbody>\n",
        "</table>\n",
        "\n",
        "Los resultados son similares a los obtenidos para el árbol de decisión. La métrica precisión es ligeramente superior con respecto a la misma métrica para el árbol. Lo mismo sucede con la métrica de sensibilidad.\n",
        "\n",
        "La matriz de confusión del algoritmo de clasificación regresión repite lo mismo que lo mencionado para el modelo árbol. Esto significa que encontramos una alta tasa de verdadero positivos(251) y una baja tasa de falso negativos(76), lo cual se refleja en una  métrica alta de recall(0.77). Además, tenemos una alta tasa de falsos positivos, lo cual justifica que la precisión sea del 52%.\n",
        "\n",
        "<img src='https://raw.githubusercontent.com/JGarcia575/challenge_telecomX_parte_2/refs/heads/main/img/matriz_regresion.png'>\n",
        "\n",
        "Las curvas ROC y precisión x sesibilidad, repiten lo mismo que para las curvas del modelo árbol.\n",
        "\n",
        "<div style=\"display:flex\">\n",
        "<img src='https://raw.githubusercontent.com/JGarcia575/challenge_telecomX_parte_2/refs/heads/main/img/auc_regresion.png'>\n",
        "<img src='https://raw.githubusercontent.com/JGarcia575/challenge_telecomX_parte_2/refs/heads/main/img/pr_arbol.png'>\n",
        "\n",
        "</div>"
      ],
      "metadata": {
        "id": "MxLhbIbnWBMM"
      }
    },
    {
      "cell_type": "markdown",
      "source": [
        "La validación cruzada arroja resultados similares en cuanto a la métrica precisión con respecto a la validación realizada sobre un solo conjunto de datos. Por ejemplo, el modelo árbol de decisión tuvo un una media de precisión de 0.52 ± 0.021, mientras que la regresión logística tuvo un promedio de precisión de  0.51 ± 0.013. No obstante, la puntuación de sensibilidad mejoró para ambos modelos. Dado que el algoritmo de clasificación árbol obtuvo un promedio de 0.76 ± 0.023 de sensibilidad y la regresión  obtuvo una media de sensibilidad de 0.80 ± 0.012.\n",
        "\n",
        "### <strong>_Evaluación con datos de prueba_</strong>\n",
        "\n",
        "El rendimiento de los modelos con los datos de prueba es similar al rendimiento obtenido en la validación cruzada. La precisión para los dos modelos se encuentra alrededor del 50% y la sensibilidad para el árbol de decisión es 0.77 y 0.80 para el modelo de regresión logística.\n",
        "\n",
        "### <strong>_Análisis de importancia de las variables_</strong>\n",
        "\n",
        "El modelo de regresión que calcula la probabilidad de  evasión de clientes queda descripto por la siguiente ecuación:\n",
        "\n",
        "$P(Y=1|X) = \\frac{1}{1 + e^{-(\\beta_0 + \\beta_1X_1 + \\beta_2X_2 + \\beta_1X_3+ \\beta_1X_4 + \\beta_1X_5 + \\beta_1X_6 + \\beta_7X_7 + \\beta_8X_8)}}$\n",
        "\n",
        "donde $\\beta_0$ es el intercepto de la regresión y $\\beta_1$, $\\beta_2$, $\\beta_3$, $\\beta_4$ ... $\\beta_8$  son los coeficientes de las variables predictoras.\n",
        "\n",
        "En este caso, el modelo queda definido por las siguientes variables predictoras:\n",
        "\n",
        "$X_1$: SeniorCitizen,<br>\n",
        "$X_2$: Fiber optic,<br>\n",
        "$X_3$: Contract_one-year, <br>\n",
        "$X_4$: Contract_two-year, <br>\n",
        "$X_5$: PaymentMethod credit card', <br>\n",
        "$X_6$: PaymentMethod electronic check', <br>\n",
        "$X_7$: PaymentMethod mailed check', <br>\n",
        "$X_8$: Tenure\n",
        "\n",
        "y los coeficientes para cada variable independiente son:\n",
        "\n",
        "$\\beta_1$ = 0.33, <br>\n",
        "$\\beta_2$ = 1.28, <br>\n",
        "$\\beta_3$ = -0.80, <br>\n",
        "$\\beta_4$ = -1.74, <br>\n",
        "$\\beta_5$ = -0.05, <br>\n",
        "$\\beta_6$ = 0.63, <br>\n",
        "$\\beta_7$ = -0.13, <br>\n",
        "$\\beta_8$ = -1.42, <br>\n",
        "\n",
        "Si observamos los coeficientes de la regresión, vemos que las variables Tenure y Contrato de dos años son las que tienen más importancia. El árbol de decisión también le asigna importancia al contrato a dos años. No obstante, este modelo también le asigna más importancia a la variable  Contrato a un año a diferencia de la regresión.\n",
        "\n",
        "<img src='https://raw.githubusercontent.com/JGarcia575/challenge_telecomX_parte_2/refs/heads/main/img/importancia_arbol.png'>"
      ],
      "metadata": {
        "id": "lEDEmLNzlMLL"
      }
    },
    {
      "cell_type": "markdown",
      "source": [
        "### \\begin{align}\n",
        "    \\color{yellow}{\\textbf{Conclusión}}\n",
        "    \\end{align}"
      ],
      "metadata": {
        "id": "Q8n2fJJplFjD"
      }
    },
    {
      "cell_type": "markdown",
      "source": [
        "Dado que las métricas generales de rendimiento, como el AUC y la precisión promedio, son similares para ambos modelos, y reconociendo que la precisión máxima alcanzable para este problema es del 52%, se priorizó la capacidad de detectar a los clientes en riesgo. Por lo tanto, se eligió el modelo de regresión logística por su mayor sensibilidad (recall) en la validación cruzada y en la evaluación con los datos de prueba.\n",
        "\n",
        "La regresión logística es un modelo básico pero sencillo de entender ya que de sus coeficientes podemos extraer como influye cada variable independienta en la probabilidad de churn. La cancelación se relaciona de manera positiva: con la edad, con el servicio de fibra óptica y con el método de pago cheque electrónico. Mientras que se relaciona de manera negativa con: los tipos de contratos, con los métodos de pagos tarjeta de crédito y cheque por correo y , por último, con antiguedad.\n",
        "\n",
        "Las variables más importantes y, por lo tanto más influyentes para el modelo, son: antiguedad y contrato a dos años, las cuales pueden convertirse en el foco de diseños de estrategias para retener los clientes en riesgo de cancelación.\n",
        "\n",
        "Dado que el modelo es agresivo identificando clientes en riesgo pero con la contra de que de todos los usuarios clasificados como churn, solo la mitad realmente se fue, recomendamos que las estrategias de retención de clientes sean económicas para compensar la debilidad del modelo."
      ],
      "metadata": {
        "id": "PjoxQ3CAlJyR"
      }
    }
  ]
}